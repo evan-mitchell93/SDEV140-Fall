{
 "cells": [
  {
   "cell_type": "markdown",
   "id": "c93b3479",
   "metadata": {},
   "source": [
    "Classes used to maintain object states\n",
    "Objects will be saved to .obj files using pickle"
   ]
  },
  {
   "cell_type": "code",
   "execution_count": 1,
   "id": "f0b3d9d4",
   "metadata": {},
   "outputs": [],
   "source": [
    "from breezypythongui import EasyFrame\n",
    "import tkinter as tk\n",
    "import pickle\n",
    "from PIL import ImageTk,Image"
   ]
  },
  {
   "cell_type": "code",
   "execution_count": 2,
   "id": "124972de",
   "metadata": {},
   "outputs": [],
   "source": [
    "class GameMatch:\n",
    "    def __init__(self,username):\n",
    "        self.wins = 0\n",
    "        self.loses = 0\n",
    "        self.user = username"
   ]
  },
  {
   "cell_type": "code",
   "execution_count": 3,
   "id": "7912b3b8",
   "metadata": {},
   "outputs": [],
   "source": [
    "class Operator:\n",
    "    def __init__(self,name,side,wins=0,loses=0):\n",
    "        self.name = name\n",
    "        self.wins = 0\n",
    "        self.loses = 0\n",
    "        self.side = side"
   ]
  },
  {
   "cell_type": "markdown",
   "id": "10e58a04",
   "metadata": {},
   "source": [
    "Our MainFrame class will represent our main window with a button to start a new match"
   ]
  },
  {
   "cell_type": "code",
   "execution_count": 4,
   "id": "b0db9fe8",
   "metadata": {},
   "outputs": [],
   "source": [
    "class MainFrame(EasyFrame):\n",
    "    def __init__(self):\n",
    "        EasyFrame.__init__(self,title=\"Game\",height=500,width=500)\n",
    "        self.config(bg=\"blue\")"
   ]
  },
  {
   "cell_type": "markdown",
   "id": "bd7b3de4",
   "metadata": {},
   "source": [
    "The Match class will handle the majority of our logic"
   ]
  },
  {
   "cell_type": "code",
   "execution_count": 19,
   "id": "714d4ade",
   "metadata": {},
   "outputs": [],
   "source": [
    "\n",
    "\n",
    "class Match(EasyFrame):\n",
    "\n",
    "    def __init__(self):\n",
    "        EasyFrame.__init__(self,title=\"Match\",width=500,height=500)\n",
    "        self.config(bg=\"#869eb9\")\n",
    "        self.match = GameMatch(\"emitchell\")\n",
    "        self.all_ops = {\"tachanka\":\"defend\",\"castle\":\"defend\",\"nomad\":\"attack\",\"sens\":\"attack\",\"valkyrie\":\"defend\",\"thatcher\":\"attack\"}\n",
    "        self.op_name = \"\"\n",
    "        self.img_label = self.addLabel(text=\"\",row=2,column=1)\n",
    "        self.current_op = self.get_operator()\n",
    "        \n",
    "        ### DATA DISPLAY SECTION ###\n",
    "        self.round_lable = self.addTextField(text=f\"{self.match.wins} : {self.match.loses}\",row=0,column=0,columnspan=2,sticky=\"NSEW\")\n",
    "        self.display = self.addTextField(text=\"\",row=2,column=0,sticky=\"NSEW\")\n",
    "        ### BUTTONS ###\n",
    "        self.addButton(text=\"Round Won\",row=1,column=0,command=self.round_won,sticky=\"NSEW\").config(bg=\"#64ad6a\")\n",
    "        self.addButton(text=\"Round Lost\",row=1,column=1,command=self.round_lost,sticky=\"NSEW\").config(bg=\"#dd3439\")\n",
    "        \n",
    "        self.save_btn = self.addButton(text=\"save\",row=3,column=0,command=self.save_match,sticky=\"NSEW\").config(bg=\"#7cb9e8\")\n",
    "        self.load_btn = self.addButton(text=\"load\",row=3,column=1,command=self.load_match,sticky=\"NSEW\").config(bg=\"#3b43d6\",fg=\"white\")\n",
    "\n",
    "    \n",
    "    def get_operator(self):\n",
    "        self.op_name = self.prompterBox(title=\"Operator\",promptString=\"Pick an operator\",inputText=\"\",fieldWidth=20).lower()\n",
    "        \n",
    "        #if the operator has been used before, read from the file\n",
    "        try:\n",
    "            fp = open(f\"{self.op_name}.obj\",\"rb\")\n",
    "            self.current_op = pickle.load(fp)\n",
    "            fp.close()\n",
    "        #no file exists so create a new Operator object and write it to a new .obj file\n",
    "        except:\n",
    "            self.current_op = Operator(self.op_name,self.all_ops[self.op_name])\n",
    "            fp  = open(f\"{self.op_name}.obj\",\"wb\")\n",
    "            pickle.dump(self.current_op)\n",
    "        \n",
    "        #add the operator icon to a label\n",
    "        self.img = ImageTk.PhotoImage(Image.open(f\"./r6/{self.op_name}.png\").resize((200,200)))\n",
    "        self.img_label.configure(image=self.img)\n",
    "        self.img_label.image = self.img\n",
    "        self.update_display()\n",
    "\n",
    "    def update_display(self):\n",
    "       self.display.setText(f\"{self.current_op.name}, Wins: {self.current_op.wins}, Loses: {self.current_op.loses}\")\n",
    "\n",
    "    def save_match(self):\n",
    "        fp = open(\"frames.obj\",'wb')\n",
    "        pickle.dump(self.match,fp)\n",
    "        fp.close()\n",
    "        self.destroy()\n",
    "    \n",
    "    def load_match(self):\n",
    "        fp = open(\"frames.obj\",\"rb\")\n",
    "        self.match = pickle.load(fp)\n",
    "        fp.close()\n",
    "        self.round_lable.setText(f\"{self.match.wins} : {self.match.loses}\")\n",
    "        self.update_operator()\n",
    "        self.update_display()\n",
    "\n",
    "    def round_won(self):\n",
    "        self.match.wins += 1\n",
    "        self.current_op.wins += 1\n",
    "        self.round_lable.setText(f\"{self.match.wins} : {self.match.loses}\")\n",
    "        self.update_display()\n",
    "        if self.match.wins == 4 and self.match.loses < 3:\n",
    "            print(\"You won the match\")\n",
    "            self.destroy()\n",
    "        self.update_operator()\n",
    "\n",
    "\n",
    "        \n",
    "    def round_lost(self):\n",
    "        self.match.loses += 1\n",
    "        self.current_op.loses += 1\n",
    "        self.round_lable.setText(f\"{self.match.wins} : {self.match.loses}\")\n",
    "        self.update_display()\n",
    "        if self.match.loses == 4 and self.match.wins < 3:\n",
    "            print(\"You lost the match\")\n",
    "            self.destroy\n",
    "        self.update_operator()"
   ]
  },
  {
   "cell_type": "code",
   "execution_count": 20,
   "id": "2fb93786",
   "metadata": {},
   "outputs": [
    {
     "name": "stderr",
     "output_type": "stream",
     "text": [
      "Exception in Tkinter callback\n",
      "Traceback (most recent call last):\n",
      "  File \"C:\\ProgramData\\anaconda3\\lib\\tkinter\\__init__.py\", line 1921, in __call__\n",
      "    return self.func(*args)\n",
      "  File \"C:\\Users\\emitchell41-ad\\AppData\\Local\\Temp\\ipykernel_3700\\701052917.py\", line 61, in round_won\n",
      "    self.current_op.wins += 1\n",
      "AttributeError: 'NoneType' object has no attribute 'wins'\n"
     ]
    }
   ],
   "source": [
    "\n",
    "#Base Application Window\n",
    "root = tk.Tk()\n",
    "\n",
    "###Create an object from class MainFrame\n",
    "main_window = MainFrame()\n",
    "main_window.grid(row=0,column=0)\n",
    "\n",
    "match_window = None\n",
    "\n",
    "def start_match():\n",
    "    global match_window\n",
    "    match_window = Match()\n",
    "    match_window.grid(row=0,column=0,sticky=\"NSEW\")\n",
    "\n",
    "def finish_match():\n",
    "    match_window.grid_forget()\n",
    "\n",
    "#Associate the start_btn with the main windows\n",
    "start_btn = tk.Button(main_window,text=\"Start Match\",command=start_match)\n",
    "start_btn.grid(row=0,column=0)\n",
    "root.mainloop()"
   ]
  },
  {
   "cell_type": "code",
   "execution_count": null,
   "id": "2f7ebfdc",
   "metadata": {},
   "outputs": [],
   "source": []
  }
 ],
 "metadata": {
  "kernelspec": {
   "display_name": "Python 3 (ipykernel)",
   "language": "python",
   "name": "python3"
  },
  "language_info": {
   "codemirror_mode": {
    "name": "ipython",
    "version": 3
   },
   "file_extension": ".py",
   "mimetype": "text/x-python",
   "name": "python",
   "nbconvert_exporter": "python",
   "pygments_lexer": "ipython3",
   "version": "3.10.9"
  }
 },
 "nbformat": 4,
 "nbformat_minor": 5
}
